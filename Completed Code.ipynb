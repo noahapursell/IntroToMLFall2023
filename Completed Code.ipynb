{
 "cells": [
  {
   "cell_type": "markdown",
   "id": "2e078558-a889-4cd9-9470-f565bd958d93",
   "metadata": {},
   "source": [
    "# Template/Completed Code"
   ]
  },
  {
   "cell_type": "markdown",
   "id": "a3c35ef4-af1f-4e51-9837-272f4a1d48a2",
   "metadata": {},
   "source": [
    "## Configs"
   ]
  },
  {
   "cell_type": "code",
   "execution_count": 1,
   "id": "54ba0c3d-bc74-4769-a56b-6f6e909c9036",
   "metadata": {},
   "outputs": [],
   "source": [
    "DATA_PATH = \"data/credit_card_data.csv\""
   ]
  },
  {
   "cell_type": "markdown",
   "id": "089f5bc0-d31d-498a-9980-df5197ee4738",
   "metadata": {},
   "source": [
    "## Imports"
   ]
  },
  {
   "cell_type": "code",
   "execution_count": 40,
   "id": "4a56effb-4657-4991-94bd-b7c769c0c9d7",
   "metadata": {},
   "outputs": [],
   "source": [
    "import pandas as pd\n",
    "import matplotlib.pyplot as plt\n",
    "import torch\n",
    "from torch.utils.data import Dataset\n",
    "from torch.utils.data import DataLoader\n",
    "from sklearn.model_selection import train_test_split\n",
    "import numpy as np\n",
    "from sklearn.metrics import confusion_matrix\n",
    "import seaborn as sns\n"
   ]
  },
  {
   "cell_type": "markdown",
   "id": "e6ce5995-a1b4-4875-ae4d-0a76de7a39d1",
   "metadata": {},
   "source": [
    "## Data Loading + Cleaning"
   ]
  },
  {
   "cell_type": "code",
   "execution_count": 3,
   "id": "c392e88c-1460-4b92-a2ab-9ae871ff9c3a",
   "metadata": {
    "tags": []
   },
   "outputs": [
    {
     "name": "stdout",
     "output_type": "stream",
     "text": [
      "568630\n"
     ]
    },
    {
     "data": {
      "text/html": [
       "<div>\n",
       "<style scoped>\n",
       "    .dataframe tbody tr th:only-of-type {\n",
       "        vertical-align: middle;\n",
       "    }\n",
       "\n",
       "    .dataframe tbody tr th {\n",
       "        vertical-align: top;\n",
       "    }\n",
       "\n",
       "    .dataframe thead th {\n",
       "        text-align: right;\n",
       "    }\n",
       "</style>\n",
       "<table border=\"1\" class=\"dataframe\">\n",
       "  <thead>\n",
       "    <tr style=\"text-align: right;\">\n",
       "      <th></th>\n",
       "      <th>V1</th>\n",
       "      <th>V2</th>\n",
       "      <th>V3</th>\n",
       "      <th>V4</th>\n",
       "      <th>V5</th>\n",
       "      <th>V6</th>\n",
       "      <th>V7</th>\n",
       "      <th>V8</th>\n",
       "      <th>V9</th>\n",
       "      <th>V10</th>\n",
       "      <th>...</th>\n",
       "      <th>V22</th>\n",
       "      <th>V23</th>\n",
       "      <th>V24</th>\n",
       "      <th>V25</th>\n",
       "      <th>V26</th>\n",
       "      <th>V27</th>\n",
       "      <th>V28</th>\n",
       "      <th>Amount</th>\n",
       "      <th>Class</th>\n",
       "      <th>V29</th>\n",
       "    </tr>\n",
       "    <tr>\n",
       "      <th>id</th>\n",
       "      <th></th>\n",
       "      <th></th>\n",
       "      <th></th>\n",
       "      <th></th>\n",
       "      <th></th>\n",
       "      <th></th>\n",
       "      <th></th>\n",
       "      <th></th>\n",
       "      <th></th>\n",
       "      <th></th>\n",
       "      <th></th>\n",
       "      <th></th>\n",
       "      <th></th>\n",
       "      <th></th>\n",
       "      <th></th>\n",
       "      <th></th>\n",
       "      <th></th>\n",
       "      <th></th>\n",
       "      <th></th>\n",
       "      <th></th>\n",
       "      <th></th>\n",
       "    </tr>\n",
       "  </thead>\n",
       "  <tbody>\n",
       "    <tr>\n",
       "      <th>0</th>\n",
       "      <td>-0.260648</td>\n",
       "      <td>-0.469648</td>\n",
       "      <td>31.122978</td>\n",
       "      <td>-0.083724</td>\n",
       "      <td>0.129681</td>\n",
       "      <td>0.732898</td>\n",
       "      <td>0.519014</td>\n",
       "      <td>-0.130006</td>\n",
       "      <td>0.727159</td>\n",
       "      <td>0.637735</td>\n",
       "      <td>...</td>\n",
       "      <td>0.217606</td>\n",
       "      <td>-0.134794</td>\n",
       "      <td>0.165959</td>\n",
       "      <td>0.126280</td>\n",
       "      <td>-0.434824</td>\n",
       "      <td>-0.081230</td>\n",
       "      <td>-0.151045</td>\n",
       "      <td>17982.10</td>\n",
       "      <td>0.0</td>\n",
       "      <td>C</td>\n",
       "    </tr>\n",
       "    <tr>\n",
       "      <th>1</th>\n",
       "      <td>0.985100</td>\n",
       "      <td>-0.356045</td>\n",
       "      <td>3.600400</td>\n",
       "      <td>-0.429654</td>\n",
       "      <td>0.277140</td>\n",
       "      <td>0.428605</td>\n",
       "      <td>0.406466</td>\n",
       "      <td>-0.133118</td>\n",
       "      <td>0.347452</td>\n",
       "      <td>0.529808</td>\n",
       "      <td>...</td>\n",
       "      <td>-0.605761</td>\n",
       "      <td>0.079469</td>\n",
       "      <td>-0.577395</td>\n",
       "      <td>0.190090</td>\n",
       "      <td>0.296503</td>\n",
       "      <td>-0.248052</td>\n",
       "      <td>-0.064512</td>\n",
       "      <td>6531.37</td>\n",
       "      <td>0.0</td>\n",
       "      <td>C</td>\n",
       "    </tr>\n",
       "    <tr>\n",
       "      <th>2</th>\n",
       "      <td>-0.260272</td>\n",
       "      <td>-0.949385</td>\n",
       "      <td>20.221236</td>\n",
       "      <td>-0.457986</td>\n",
       "      <td>0.074062</td>\n",
       "      <td>1.419481</td>\n",
       "      <td>0.743511</td>\n",
       "      <td>-0.095576</td>\n",
       "      <td>-0.261297</td>\n",
       "      <td>0.690708</td>\n",
       "      <td>...</td>\n",
       "      <td>0.702906</td>\n",
       "      <td>0.945045</td>\n",
       "      <td>-1.154666</td>\n",
       "      <td>-0.605564</td>\n",
       "      <td>-0.312895</td>\n",
       "      <td>-0.300258</td>\n",
       "      <td>-0.244718</td>\n",
       "      <td>2513.54</td>\n",
       "      <td>0.0</td>\n",
       "      <td>A</td>\n",
       "    </tr>\n",
       "    <tr>\n",
       "      <th>3</th>\n",
       "      <td>-0.152152</td>\n",
       "      <td>-0.508959</td>\n",
       "      <td>20.481129</td>\n",
       "      <td>-1.090178</td>\n",
       "      <td>0.249486</td>\n",
       "      <td>1.143312</td>\n",
       "      <td>0.518269</td>\n",
       "      <td>-0.065130</td>\n",
       "      <td>-0.205698</td>\n",
       "      <td>0.575231</td>\n",
       "      <td>...</td>\n",
       "      <td>-0.038212</td>\n",
       "      <td>-0.214048</td>\n",
       "      <td>-1.893131</td>\n",
       "      <td>1.003963</td>\n",
       "      <td>-0.515950</td>\n",
       "      <td>-0.165316</td>\n",
       "      <td>0.048424</td>\n",
       "      <td>5384.44</td>\n",
       "      <td>0.0</td>\n",
       "      <td>C</td>\n",
       "    </tr>\n",
       "    <tr>\n",
       "      <th>4</th>\n",
       "      <td>-0.206820</td>\n",
       "      <td>-0.165280</td>\n",
       "      <td>17.360148</td>\n",
       "      <td>-0.448293</td>\n",
       "      <td>0.106125</td>\n",
       "      <td>0.530549</td>\n",
       "      <td>0.658849</td>\n",
       "      <td>-0.212660</td>\n",
       "      <td>1.049921</td>\n",
       "      <td>0.968046</td>\n",
       "      <td>...</td>\n",
       "      <td>0.729727</td>\n",
       "      <td>-0.161666</td>\n",
       "      <td>0.312561</td>\n",
       "      <td>-0.414116</td>\n",
       "      <td>1.071126</td>\n",
       "      <td>0.023712</td>\n",
       "      <td>0.419117</td>\n",
       "      <td>14278.97</td>\n",
       "      <td>0.0</td>\n",
       "      <td>D</td>\n",
       "    </tr>\n",
       "  </tbody>\n",
       "</table>\n",
       "<p>5 rows × 31 columns</p>\n",
       "</div>"
      ],
      "text/plain": [
       "          V1        V2         V3        V4        V5        V6        V7  \\\n",
       "id                                                                          \n",
       "0  -0.260648 -0.469648  31.122978 -0.083724  0.129681  0.732898  0.519014   \n",
       "1   0.985100 -0.356045   3.600400 -0.429654  0.277140  0.428605  0.406466   \n",
       "2  -0.260272 -0.949385  20.221236 -0.457986  0.074062  1.419481  0.743511   \n",
       "3  -0.152152 -0.508959  20.481129 -1.090178  0.249486  1.143312  0.518269   \n",
       "4  -0.206820 -0.165280  17.360148 -0.448293  0.106125  0.530549  0.658849   \n",
       "\n",
       "          V8        V9       V10  ...       V22       V23       V24       V25  \\\n",
       "id                                ...                                           \n",
       "0  -0.130006  0.727159  0.637735  ...  0.217606 -0.134794  0.165959  0.126280   \n",
       "1  -0.133118  0.347452  0.529808  ... -0.605761  0.079469 -0.577395  0.190090   \n",
       "2  -0.095576 -0.261297  0.690708  ...  0.702906  0.945045 -1.154666 -0.605564   \n",
       "3  -0.065130 -0.205698  0.575231  ... -0.038212 -0.214048 -1.893131  1.003963   \n",
       "4  -0.212660  1.049921  0.968046  ...  0.729727 -0.161666  0.312561 -0.414116   \n",
       "\n",
       "         V26       V27       V28    Amount  Class  V29  \n",
       "id                                                      \n",
       "0  -0.434824 -0.081230 -0.151045  17982.10    0.0    C  \n",
       "1   0.296503 -0.248052 -0.064512   6531.37    0.0    C  \n",
       "2  -0.312895 -0.300258 -0.244718   2513.54    0.0    A  \n",
       "3  -0.515950 -0.165316  0.048424   5384.44    0.0    C  \n",
       "4   1.071126  0.023712  0.419117  14278.97    0.0    D  \n",
       "\n",
       "[5 rows x 31 columns]"
      ]
     },
     "execution_count": 3,
     "metadata": {},
     "output_type": "execute_result"
    }
   ],
   "source": [
    "df = pd.read_csv(DATA_PATH, index_col=\"id\")\n",
    "original_length = len(df)\n",
    "print(f\"{original_length}\")\n",
    "df.head()"
   ]
  },
  {
   "cell_type": "markdown",
   "id": "5a5d564c-3179-49a6-ad35-44602e8d5301",
   "metadata": {},
   "source": [
    "### Remove NAN Values"
   ]
  },
  {
   "cell_type": "code",
   "execution_count": 4,
   "id": "295601ad-3301-4595-9ac4-4f73e0e54e59",
   "metadata": {
    "tags": []
   },
   "outputs": [
    {
     "name": "stdout",
     "output_type": "stream",
     "text": [
      "len(df)=416999\n"
     ]
    },
    {
     "data": {
      "text/html": [
       "<div>\n",
       "<style scoped>\n",
       "    .dataframe tbody tr th:only-of-type {\n",
       "        vertical-align: middle;\n",
       "    }\n",
       "\n",
       "    .dataframe tbody tr th {\n",
       "        vertical-align: top;\n",
       "    }\n",
       "\n",
       "    .dataframe thead th {\n",
       "        text-align: right;\n",
       "    }\n",
       "</style>\n",
       "<table border=\"1\" class=\"dataframe\">\n",
       "  <thead>\n",
       "    <tr style=\"text-align: right;\">\n",
       "      <th></th>\n",
       "      <th>V1</th>\n",
       "      <th>V2</th>\n",
       "      <th>V3</th>\n",
       "      <th>V4</th>\n",
       "      <th>V5</th>\n",
       "      <th>V6</th>\n",
       "      <th>V7</th>\n",
       "      <th>V8</th>\n",
       "      <th>V9</th>\n",
       "      <th>V10</th>\n",
       "      <th>...</th>\n",
       "      <th>V22</th>\n",
       "      <th>V23</th>\n",
       "      <th>V24</th>\n",
       "      <th>V25</th>\n",
       "      <th>V26</th>\n",
       "      <th>V27</th>\n",
       "      <th>V28</th>\n",
       "      <th>Amount</th>\n",
       "      <th>Class</th>\n",
       "      <th>V29</th>\n",
       "    </tr>\n",
       "    <tr>\n",
       "      <th>id</th>\n",
       "      <th></th>\n",
       "      <th></th>\n",
       "      <th></th>\n",
       "      <th></th>\n",
       "      <th></th>\n",
       "      <th></th>\n",
       "      <th></th>\n",
       "      <th></th>\n",
       "      <th></th>\n",
       "      <th></th>\n",
       "      <th></th>\n",
       "      <th></th>\n",
       "      <th></th>\n",
       "      <th></th>\n",
       "      <th></th>\n",
       "      <th></th>\n",
       "      <th></th>\n",
       "      <th></th>\n",
       "      <th></th>\n",
       "      <th></th>\n",
       "      <th></th>\n",
       "    </tr>\n",
       "  </thead>\n",
       "  <tbody>\n",
       "    <tr>\n",
       "      <th>0</th>\n",
       "      <td>-0.260648</td>\n",
       "      <td>-0.469648</td>\n",
       "      <td>31.122978</td>\n",
       "      <td>-0.083724</td>\n",
       "      <td>0.129681</td>\n",
       "      <td>0.732898</td>\n",
       "      <td>0.519014</td>\n",
       "      <td>-0.130006</td>\n",
       "      <td>0.727159</td>\n",
       "      <td>0.637735</td>\n",
       "      <td>...</td>\n",
       "      <td>0.217606</td>\n",
       "      <td>-0.134794</td>\n",
       "      <td>0.165959</td>\n",
       "      <td>0.126280</td>\n",
       "      <td>-0.434824</td>\n",
       "      <td>-0.081230</td>\n",
       "      <td>-0.151045</td>\n",
       "      <td>17982.10</td>\n",
       "      <td>0.0</td>\n",
       "      <td>C</td>\n",
       "    </tr>\n",
       "    <tr>\n",
       "      <th>2</th>\n",
       "      <td>-0.260272</td>\n",
       "      <td>-0.949385</td>\n",
       "      <td>20.221236</td>\n",
       "      <td>-0.457986</td>\n",
       "      <td>0.074062</td>\n",
       "      <td>1.419481</td>\n",
       "      <td>0.743511</td>\n",
       "      <td>-0.095576</td>\n",
       "      <td>-0.261297</td>\n",
       "      <td>0.690708</td>\n",
       "      <td>...</td>\n",
       "      <td>0.702906</td>\n",
       "      <td>0.945045</td>\n",
       "      <td>-1.154666</td>\n",
       "      <td>-0.605564</td>\n",
       "      <td>-0.312895</td>\n",
       "      <td>-0.300258</td>\n",
       "      <td>-0.244718</td>\n",
       "      <td>2513.54</td>\n",
       "      <td>0.0</td>\n",
       "      <td>A</td>\n",
       "    </tr>\n",
       "    <tr>\n",
       "      <th>4</th>\n",
       "      <td>-0.206820</td>\n",
       "      <td>-0.165280</td>\n",
       "      <td>17.360148</td>\n",
       "      <td>-0.448293</td>\n",
       "      <td>0.106125</td>\n",
       "      <td>0.530549</td>\n",
       "      <td>0.658849</td>\n",
       "      <td>-0.212660</td>\n",
       "      <td>1.049921</td>\n",
       "      <td>0.968046</td>\n",
       "      <td>...</td>\n",
       "      <td>0.729727</td>\n",
       "      <td>-0.161666</td>\n",
       "      <td>0.312561</td>\n",
       "      <td>-0.414116</td>\n",
       "      <td>1.071126</td>\n",
       "      <td>0.023712</td>\n",
       "      <td>0.419117</td>\n",
       "      <td>14278.97</td>\n",
       "      <td>0.0</td>\n",
       "      <td>D</td>\n",
       "    </tr>\n",
       "    <tr>\n",
       "      <th>6</th>\n",
       "      <td>1.016482</td>\n",
       "      <td>-0.397181</td>\n",
       "      <td>2.745721</td>\n",
       "      <td>-0.144463</td>\n",
       "      <td>0.331022</td>\n",
       "      <td>0.629243</td>\n",
       "      <td>0.431262</td>\n",
       "      <td>-0.134007</td>\n",
       "      <td>0.796159</td>\n",
       "      <td>0.557015</td>\n",
       "      <td>...</td>\n",
       "      <td>-0.287017</td>\n",
       "      <td>-0.178197</td>\n",
       "      <td>-1.297597</td>\n",
       "      <td>1.182503</td>\n",
       "      <td>-0.604228</td>\n",
       "      <td>-0.198163</td>\n",
       "      <td>-0.087619</td>\n",
       "      <td>18954.45</td>\n",
       "      <td>0.0</td>\n",
       "      <td>B</td>\n",
       "    </tr>\n",
       "    <tr>\n",
       "      <th>7</th>\n",
       "      <td>-0.051306</td>\n",
       "      <td>-0.007194</td>\n",
       "      <td>11.863161</td>\n",
       "      <td>-0.877880</td>\n",
       "      <td>0.684668</td>\n",
       "      <td>0.714326</td>\n",
       "      <td>0.892615</td>\n",
       "      <td>-0.908409</td>\n",
       "      <td>0.901938</td>\n",
       "      <td>1.258025</td>\n",
       "      <td>...</td>\n",
       "      <td>-0.920426</td>\n",
       "      <td>0.034660</td>\n",
       "      <td>-1.091527</td>\n",
       "      <td>-0.742075</td>\n",
       "      <td>-0.104863</td>\n",
       "      <td>-1.382522</td>\n",
       "      <td>-2.748268</td>\n",
       "      <td>12298.23</td>\n",
       "      <td>0.0</td>\n",
       "      <td>C</td>\n",
       "    </tr>\n",
       "  </tbody>\n",
       "</table>\n",
       "<p>5 rows × 31 columns</p>\n",
       "</div>"
      ],
      "text/plain": [
       "          V1        V2         V3        V4        V5        V6        V7  \\\n",
       "id                                                                          \n",
       "0  -0.260648 -0.469648  31.122978 -0.083724  0.129681  0.732898  0.519014   \n",
       "2  -0.260272 -0.949385  20.221236 -0.457986  0.074062  1.419481  0.743511   \n",
       "4  -0.206820 -0.165280  17.360148 -0.448293  0.106125  0.530549  0.658849   \n",
       "6   1.016482 -0.397181   2.745721 -0.144463  0.331022  0.629243  0.431262   \n",
       "7  -0.051306 -0.007194  11.863161 -0.877880  0.684668  0.714326  0.892615   \n",
       "\n",
       "          V8        V9       V10  ...       V22       V23       V24       V25  \\\n",
       "id                                ...                                           \n",
       "0  -0.130006  0.727159  0.637735  ...  0.217606 -0.134794  0.165959  0.126280   \n",
       "2  -0.095576 -0.261297  0.690708  ...  0.702906  0.945045 -1.154666 -0.605564   \n",
       "4  -0.212660  1.049921  0.968046  ...  0.729727 -0.161666  0.312561 -0.414116   \n",
       "6  -0.134007  0.796159  0.557015  ... -0.287017 -0.178197 -1.297597  1.182503   \n",
       "7  -0.908409  0.901938  1.258025  ... -0.920426  0.034660 -1.091527 -0.742075   \n",
       "\n",
       "         V26       V27       V28    Amount  Class  V29  \n",
       "id                                                      \n",
       "0  -0.434824 -0.081230 -0.151045  17982.10    0.0    C  \n",
       "2  -0.312895 -0.300258 -0.244718   2513.54    0.0    A  \n",
       "4   1.071126  0.023712  0.419117  14278.97    0.0    D  \n",
       "6  -0.604228 -0.198163 -0.087619  18954.45    0.0    B  \n",
       "7  -0.104863 -1.382522 -2.748268  12298.23    0.0    C  \n",
       "\n",
       "[5 rows x 31 columns]"
      ]
     },
     "execution_count": 4,
     "metadata": {},
     "output_type": "execute_result"
    }
   ],
   "source": [
    "df = df.dropna()\n",
    "new_length = len(df)\n",
    "print(f\"{len(df)=}\")\n",
    "df.head()"
   ]
  },
  {
   "cell_type": "markdown",
   "id": "9c9a5aad-2dee-437e-b7b2-91322a6292a3",
   "metadata": {},
   "source": [
    "### Qualitative --> Quantitative"
   ]
  },
  {
   "cell_type": "code",
   "execution_count": 5,
   "id": "f7773e2e-bdbc-4a8d-8e82-19e7389206e2",
   "metadata": {
    "tags": []
   },
   "outputs": [
    {
     "data": {
      "text/html": [
       "<div>\n",
       "<style scoped>\n",
       "    .dataframe tbody tr th:only-of-type {\n",
       "        vertical-align: middle;\n",
       "    }\n",
       "\n",
       "    .dataframe tbody tr th {\n",
       "        vertical-align: top;\n",
       "    }\n",
       "\n",
       "    .dataframe thead th {\n",
       "        text-align: right;\n",
       "    }\n",
       "</style>\n",
       "<table border=\"1\" class=\"dataframe\">\n",
       "  <thead>\n",
       "    <tr style=\"text-align: right;\">\n",
       "      <th></th>\n",
       "      <th>V1</th>\n",
       "      <th>V2</th>\n",
       "      <th>V3</th>\n",
       "      <th>V4</th>\n",
       "      <th>V5</th>\n",
       "      <th>V6</th>\n",
       "      <th>V7</th>\n",
       "      <th>V8</th>\n",
       "      <th>V9</th>\n",
       "      <th>V10</th>\n",
       "      <th>...</th>\n",
       "      <th>V25</th>\n",
       "      <th>V26</th>\n",
       "      <th>V27</th>\n",
       "      <th>V28</th>\n",
       "      <th>Amount</th>\n",
       "      <th>Class</th>\n",
       "      <th>V29_A</th>\n",
       "      <th>V29_B</th>\n",
       "      <th>V29_C</th>\n",
       "      <th>V29_D</th>\n",
       "    </tr>\n",
       "    <tr>\n",
       "      <th>id</th>\n",
       "      <th></th>\n",
       "      <th></th>\n",
       "      <th></th>\n",
       "      <th></th>\n",
       "      <th></th>\n",
       "      <th></th>\n",
       "      <th></th>\n",
       "      <th></th>\n",
       "      <th></th>\n",
       "      <th></th>\n",
       "      <th></th>\n",
       "      <th></th>\n",
       "      <th></th>\n",
       "      <th></th>\n",
       "      <th></th>\n",
       "      <th></th>\n",
       "      <th></th>\n",
       "      <th></th>\n",
       "      <th></th>\n",
       "      <th></th>\n",
       "      <th></th>\n",
       "    </tr>\n",
       "  </thead>\n",
       "  <tbody>\n",
       "    <tr>\n",
       "      <th>0</th>\n",
       "      <td>-0.260648</td>\n",
       "      <td>-0.469648</td>\n",
       "      <td>31.122978</td>\n",
       "      <td>-0.083724</td>\n",
       "      <td>0.129681</td>\n",
       "      <td>0.732898</td>\n",
       "      <td>0.519014</td>\n",
       "      <td>-0.130006</td>\n",
       "      <td>0.727159</td>\n",
       "      <td>0.637735</td>\n",
       "      <td>...</td>\n",
       "      <td>0.126280</td>\n",
       "      <td>-0.434824</td>\n",
       "      <td>-0.081230</td>\n",
       "      <td>-0.151045</td>\n",
       "      <td>17982.10</td>\n",
       "      <td>0.0</td>\n",
       "      <td>False</td>\n",
       "      <td>False</td>\n",
       "      <td>True</td>\n",
       "      <td>False</td>\n",
       "    </tr>\n",
       "    <tr>\n",
       "      <th>2</th>\n",
       "      <td>-0.260272</td>\n",
       "      <td>-0.949385</td>\n",
       "      <td>20.221236</td>\n",
       "      <td>-0.457986</td>\n",
       "      <td>0.074062</td>\n",
       "      <td>1.419481</td>\n",
       "      <td>0.743511</td>\n",
       "      <td>-0.095576</td>\n",
       "      <td>-0.261297</td>\n",
       "      <td>0.690708</td>\n",
       "      <td>...</td>\n",
       "      <td>-0.605564</td>\n",
       "      <td>-0.312895</td>\n",
       "      <td>-0.300258</td>\n",
       "      <td>-0.244718</td>\n",
       "      <td>2513.54</td>\n",
       "      <td>0.0</td>\n",
       "      <td>True</td>\n",
       "      <td>False</td>\n",
       "      <td>False</td>\n",
       "      <td>False</td>\n",
       "    </tr>\n",
       "    <tr>\n",
       "      <th>4</th>\n",
       "      <td>-0.206820</td>\n",
       "      <td>-0.165280</td>\n",
       "      <td>17.360148</td>\n",
       "      <td>-0.448293</td>\n",
       "      <td>0.106125</td>\n",
       "      <td>0.530549</td>\n",
       "      <td>0.658849</td>\n",
       "      <td>-0.212660</td>\n",
       "      <td>1.049921</td>\n",
       "      <td>0.968046</td>\n",
       "      <td>...</td>\n",
       "      <td>-0.414116</td>\n",
       "      <td>1.071126</td>\n",
       "      <td>0.023712</td>\n",
       "      <td>0.419117</td>\n",
       "      <td>14278.97</td>\n",
       "      <td>0.0</td>\n",
       "      <td>False</td>\n",
       "      <td>False</td>\n",
       "      <td>False</td>\n",
       "      <td>True</td>\n",
       "    </tr>\n",
       "    <tr>\n",
       "      <th>6</th>\n",
       "      <td>1.016482</td>\n",
       "      <td>-0.397181</td>\n",
       "      <td>2.745721</td>\n",
       "      <td>-0.144463</td>\n",
       "      <td>0.331022</td>\n",
       "      <td>0.629243</td>\n",
       "      <td>0.431262</td>\n",
       "      <td>-0.134007</td>\n",
       "      <td>0.796159</td>\n",
       "      <td>0.557015</td>\n",
       "      <td>...</td>\n",
       "      <td>1.182503</td>\n",
       "      <td>-0.604228</td>\n",
       "      <td>-0.198163</td>\n",
       "      <td>-0.087619</td>\n",
       "      <td>18954.45</td>\n",
       "      <td>0.0</td>\n",
       "      <td>False</td>\n",
       "      <td>True</td>\n",
       "      <td>False</td>\n",
       "      <td>False</td>\n",
       "    </tr>\n",
       "    <tr>\n",
       "      <th>7</th>\n",
       "      <td>-0.051306</td>\n",
       "      <td>-0.007194</td>\n",
       "      <td>11.863161</td>\n",
       "      <td>-0.877880</td>\n",
       "      <td>0.684668</td>\n",
       "      <td>0.714326</td>\n",
       "      <td>0.892615</td>\n",
       "      <td>-0.908409</td>\n",
       "      <td>0.901938</td>\n",
       "      <td>1.258025</td>\n",
       "      <td>...</td>\n",
       "      <td>-0.742075</td>\n",
       "      <td>-0.104863</td>\n",
       "      <td>-1.382522</td>\n",
       "      <td>-2.748268</td>\n",
       "      <td>12298.23</td>\n",
       "      <td>0.0</td>\n",
       "      <td>False</td>\n",
       "      <td>False</td>\n",
       "      <td>True</td>\n",
       "      <td>False</td>\n",
       "    </tr>\n",
       "  </tbody>\n",
       "</table>\n",
       "<p>5 rows × 34 columns</p>\n",
       "</div>"
      ],
      "text/plain": [
       "          V1        V2         V3        V4        V5        V6        V7  \\\n",
       "id                                                                          \n",
       "0  -0.260648 -0.469648  31.122978 -0.083724  0.129681  0.732898  0.519014   \n",
       "2  -0.260272 -0.949385  20.221236 -0.457986  0.074062  1.419481  0.743511   \n",
       "4  -0.206820 -0.165280  17.360148 -0.448293  0.106125  0.530549  0.658849   \n",
       "6   1.016482 -0.397181   2.745721 -0.144463  0.331022  0.629243  0.431262   \n",
       "7  -0.051306 -0.007194  11.863161 -0.877880  0.684668  0.714326  0.892615   \n",
       "\n",
       "          V8        V9       V10  ...       V25       V26       V27       V28  \\\n",
       "id                                ...                                           \n",
       "0  -0.130006  0.727159  0.637735  ...  0.126280 -0.434824 -0.081230 -0.151045   \n",
       "2  -0.095576 -0.261297  0.690708  ... -0.605564 -0.312895 -0.300258 -0.244718   \n",
       "4  -0.212660  1.049921  0.968046  ... -0.414116  1.071126  0.023712  0.419117   \n",
       "6  -0.134007  0.796159  0.557015  ...  1.182503 -0.604228 -0.198163 -0.087619   \n",
       "7  -0.908409  0.901938  1.258025  ... -0.742075 -0.104863 -1.382522 -2.748268   \n",
       "\n",
       "      Amount  Class  V29_A  V29_B  V29_C  V29_D  \n",
       "id                                               \n",
       "0   17982.10    0.0  False  False   True  False  \n",
       "2    2513.54    0.0   True  False  False  False  \n",
       "4   14278.97    0.0  False  False  False   True  \n",
       "6   18954.45    0.0  False   True  False  False  \n",
       "7   12298.23    0.0  False  False   True  False  \n",
       "\n",
       "[5 rows x 34 columns]"
      ]
     },
     "execution_count": 5,
     "metadata": {},
     "output_type": "execute_result"
    }
   ],
   "source": [
    "df = pd.get_dummies(df)\n",
    "df.head()"
   ]
  },
  {
   "cell_type": "markdown",
   "id": "ada9f83c-52b6-437c-bc7e-e89a0f9132ee",
   "metadata": {},
   "source": [
    "### Scaling Values"
   ]
  },
  {
   "cell_type": "code",
   "execution_count": 6,
   "id": "85d7907b-df54-4c60-8c8a-f1acc968ee46",
   "metadata": {
    "tags": []
   },
   "outputs": [
    {
     "data": {
      "text/plain": [
       "V1           -0.000456\n",
       "V2            0.000859\n",
       "V3           -4.340167\n",
       "V4            0.001442\n",
       "V5           -0.000813\n",
       "V6           -0.000410\n",
       "V7           -0.001197\n",
       "V8           -0.000311\n",
       "V9           -0.001038\n",
       "V10          -0.000774\n",
       "V11           0.001261\n",
       "V12          -0.000867\n",
       "V13           0.000196\n",
       "V14          -0.000595\n",
       "V15          -0.000768\n",
       "V16          -0.000926\n",
       "V17          -0.001420\n",
       "V18          -0.001514\n",
       "V19           0.000827\n",
       "V20          -0.000986\n",
       "V21           0.000065\n",
       "V22          -0.000246\n",
       "V23           0.000169\n",
       "V24          -0.000386\n",
       "V25           0.000613\n",
       "V26          -0.000528\n",
       "V27          -0.000140\n",
       "V28           0.000480\n",
       "Amount    12036.958422\n",
       "Class         0.500294\n",
       "V29_A         0.248763\n",
       "V29_B         0.249595\n",
       "V29_C         0.251173\n",
       "V29_D         0.250468\n",
       "dtype: float64"
      ]
     },
     "execution_count": 6,
     "metadata": {},
     "output_type": "execute_result"
    }
   ],
   "source": [
    "df.mean()"
   ]
  },
  {
   "cell_type": "code",
   "execution_count": 7,
   "id": "8ed69354-d024-4443-9f07-53b618e43195",
   "metadata": {
    "tags": []
   },
   "outputs": [
    {
     "data": {
      "text/plain": [
       "V1           1.001063\n",
       "V2           1.001869\n",
       "V3          14.204420\n",
       "V4           1.000203\n",
       "V5           1.001615\n",
       "V6           1.000446\n",
       "V7           1.016510\n",
       "V8           1.002398\n",
       "V9           1.000787\n",
       "V10          1.000838\n",
       "V11          0.999936\n",
       "V12          1.000631\n",
       "V13          1.000193\n",
       "V14          1.001159\n",
       "V15          1.000334\n",
       "V16          1.000861\n",
       "V17          0.999301\n",
       "V18          0.999312\n",
       "V19          1.000461\n",
       "V20          1.007858\n",
       "V21          1.005393\n",
       "V22          1.003497\n",
       "V23          1.007237\n",
       "V24          1.001368\n",
       "V25          1.000647\n",
       "V26          0.999314\n",
       "V27          1.007096\n",
       "V28          0.999666\n",
       "Amount    6921.406066\n",
       "Class        0.500001\n",
       "V29_A        0.432297\n",
       "V29_B        0.432779\n",
       "V29_C        0.433688\n",
       "V29_D        0.433283\n",
       "dtype: float64"
      ]
     },
     "execution_count": 7,
     "metadata": {},
     "output_type": "execute_result"
    }
   ],
   "source": [
    "df.std()"
   ]
  },
  {
   "cell_type": "code",
   "execution_count": 8,
   "id": "869c3ba4-ff45-4d3a-b7cc-8555a18e1a8e",
   "metadata": {},
   "outputs": [],
   "source": [
    "cols_to_scale = [\"V1\", \"V2\", \"V3\"]\n",
    "\n",
    "for col in cols_to_scale:\n",
    "    mean = df[col].mean()\n",
    "    stdv = df[col].std()\n",
    "    df[col] = (df[col] - mean) / stdv"
   ]
  },
  {
   "cell_type": "code",
   "execution_count": 9,
   "id": "87a578dc-f0ad-4873-8fe7-626cc5f1a853",
   "metadata": {
    "tags": []
   },
   "outputs": [
    {
     "data": {
      "text/plain": [
       "V1        2.181048e-17\n",
       "V2        4.471148e-17\n",
       "V3        3.053467e-17\n",
       "V4        1.441615e-03\n",
       "V5       -8.125536e-04\n",
       "V6       -4.101392e-04\n",
       "V7       -1.197142e-03\n",
       "V8       -3.110852e-04\n",
       "V9       -1.037643e-03\n",
       "V10      -7.736876e-04\n",
       "V11       1.261425e-03\n",
       "V12      -8.665816e-04\n",
       "V13       1.964948e-04\n",
       "V14      -5.952693e-04\n",
       "V15      -7.682522e-04\n",
       "V16      -9.264916e-04\n",
       "V17      -1.419735e-03\n",
       "V18      -1.514402e-03\n",
       "V19       8.272164e-04\n",
       "V20      -9.862650e-04\n",
       "V21       6.498946e-05\n",
       "V22      -2.459690e-04\n",
       "V23       1.689856e-04\n",
       "V24      -3.858441e-04\n",
       "V25       6.130720e-04\n",
       "V26      -5.279630e-04\n",
       "V27      -1.404919e-04\n",
       "V28       4.799987e-04\n",
       "Amount    1.203696e+04\n",
       "Class     5.002938e-01\n",
       "V29_A     2.487632e-01\n",
       "V29_B     2.495953e-01\n",
       "V29_C     2.511733e-01\n",
       "V29_D     2.504682e-01\n",
       "dtype: float64"
      ]
     },
     "execution_count": 9,
     "metadata": {},
     "output_type": "execute_result"
    }
   ],
   "source": [
    "df.mean()"
   ]
  },
  {
   "cell_type": "code",
   "execution_count": 10,
   "id": "103f2c0e-f97d-45d2-a1cf-7462d43b74a1",
   "metadata": {
    "tags": []
   },
   "outputs": [
    {
     "data": {
      "text/plain": [
       "V1           1.000000\n",
       "V2           1.000000\n",
       "V3           1.000000\n",
       "V4           1.000203\n",
       "V5           1.001615\n",
       "V6           1.000446\n",
       "V7           1.016510\n",
       "V8           1.002398\n",
       "V9           1.000787\n",
       "V10          1.000838\n",
       "V11          0.999936\n",
       "V12          1.000631\n",
       "V13          1.000193\n",
       "V14          1.001159\n",
       "V15          1.000334\n",
       "V16          1.000861\n",
       "V17          0.999301\n",
       "V18          0.999312\n",
       "V19          1.000461\n",
       "V20          1.007858\n",
       "V21          1.005393\n",
       "V22          1.003497\n",
       "V23          1.007237\n",
       "V24          1.001368\n",
       "V25          1.000647\n",
       "V26          0.999314\n",
       "V27          1.007096\n",
       "V28          0.999666\n",
       "Amount    6921.406066\n",
       "Class        0.500001\n",
       "V29_A        0.432297\n",
       "V29_B        0.432779\n",
       "V29_C        0.433688\n",
       "V29_D        0.433283\n",
       "dtype: float64"
      ]
     },
     "execution_count": 10,
     "metadata": {},
     "output_type": "execute_result"
    }
   ],
   "source": [
    "df.std()"
   ]
  },
  {
   "cell_type": "markdown",
   "id": "e02a6107-016d-44e7-b846-08e2d4a35386",
   "metadata": {},
   "source": [
    "### Class Balancing"
   ]
  },
  {
   "cell_type": "code",
   "execution_count": 11,
   "id": "995908cb-2140-477f-b772-3c0908639ca3",
   "metadata": {},
   "outputs": [
    {
     "data": {
      "text/plain": [
       "Class\n",
       "1.0    208622\n",
       "0.0    208377\n",
       "Name: count, dtype: int64"
      ]
     },
     "execution_count": 11,
     "metadata": {},
     "output_type": "execute_result"
    }
   ],
   "source": [
    "df['Class'].value_counts()"
   ]
  },
  {
   "cell_type": "markdown",
   "id": "79336ae4-15bf-469d-81c8-248d99a1628c",
   "metadata": {},
   "source": [
    "## Dataset + Dataloader\n",
    "https://pytorch.org/tutorials/beginner/basics/data_tutorial.html"
   ]
  },
  {
   "cell_type": "markdown",
   "id": "e9a288a3-e1a3-4773-a480-b1de56137f85",
   "metadata": {},
   "source": [
    "### PyTorch Dataset"
   ]
  },
  {
   "cell_type": "code",
   "execution_count": 12,
   "id": "dc8cb385-0bd2-49a0-b7fc-06cd8d92dc9a",
   "metadata": {},
   "outputs": [],
   "source": [
    "class CreditCardDataset(Dataset):\n",
    "    def __init__(self, df, label_col=\"Class\"):\n",
    "        self.x = df.drop([label_col], axis=1).to_numpy().astype(np.float32)\n",
    "        self.y = df[label_col].to_numpy().astype(np.float32)\n",
    "        \n",
    "    def __len__(self):\n",
    "        return len(self.y)\n",
    "    \n",
    "    def __getitem__(self, idx):\n",
    "        return self.x[idx], self.y[idx]"
   ]
  },
  {
   "cell_type": "markdown",
   "id": "0562d56d-fd86-46b7-ba0a-a6521a22b74f",
   "metadata": {},
   "source": [
    "### Make Train, Validation, Test, Datasets\n",
    "https://scikit-learn.org/stable/modules/generated/sklearn.model_selection.train_test_split.html"
   ]
  },
  {
   "cell_type": "code",
   "execution_count": 13,
   "id": "f7482f20-282a-47c1-9545-cb957bfc8c4e",
   "metadata": {},
   "outputs": [],
   "source": [
    "train_data, other_data = train_test_split(df, test_size=0.3)\n",
    "val_data, test_data = train_test_split(other_data, test_size = 0.9)"
   ]
  },
  {
   "cell_type": "code",
   "execution_count": 14,
   "id": "f6c86651-6b4c-4d9c-9108-83a80709da5f",
   "metadata": {},
   "outputs": [
    {
     "name": "stdout",
     "output_type": "stream",
     "text": [
      "len(train_data)=291899\n",
      "len(val_data)=12510\n",
      "len(test_data)=112590\n"
     ]
    }
   ],
   "source": [
    "print(f\"{len(train_data)=}\")\n",
    "print(f\"{len(val_data)=}\")\n",
    "print(f\"{len(test_data)=}\")"
   ]
  },
  {
   "cell_type": "code",
   "execution_count": 15,
   "id": "4d392221-04d1-4d5f-ac05-dbed9268135f",
   "metadata": {},
   "outputs": [],
   "source": [
    "train_dataset = CreditCardDataset(train_data)\n",
    "val_data = CreditCardDataset(val_data)\n",
    "test_data = CreditCardDataset(test_data)"
   ]
  },
  {
   "cell_type": "markdown",
   "id": "84bea73d-4c7b-4549-9ad9-c9272f8e34d9",
   "metadata": {},
   "source": [
    "### Pytorch DataLoader"
   ]
  },
  {
   "cell_type": "code",
   "execution_count": 16,
   "id": "c0fb20ec-70db-4485-b3d3-24aafefc77a3",
   "metadata": {},
   "outputs": [],
   "source": [
    "train_dataloader = DataLoader(train_dataset, batch_size=32, shuffle=True)\n",
    "val_dataloader = DataLoader(val_data, batch_size=32, shuffle=True)\n",
    "test_dataloader = DataLoader(test_data, batch_size=32, shuffle=True)"
   ]
  },
  {
   "cell_type": "markdown",
   "id": "b1110b6a-c730-4f57-b939-36d8b64a232f",
   "metadata": {},
   "source": [
    "## Define Model\n",
    "- Simple Network Definition: https://pytorch.org/tutorials/beginner/blitz/neural_networks_tutorial.html\n",
    "- Linear Layer: https://pytorch.org/docs/stable/generated/torch.nn.Linear.html\n",
    "- ReLU Activation Function: https://pytorch.org/docs/stable/generated/torch.nn.ReLU.html\n",
    "- Sigmoid Activation Function: https://pytorch.org/docs/stable/generated/torch.nn.Sigmoid.html"
   ]
  },
  {
   "cell_type": "code",
   "execution_count": 17,
   "id": "1c6a4973-639a-4ba5-ae07-56e44cca5286",
   "metadata": {},
   "outputs": [],
   "source": [
    "class SimpleANN(torch.nn.Module):\n",
    "    def __init__(self, input_size):\n",
    "        super(SimpleANN, self).__init__()\n",
    "        self.lin1 = torch.nn.Linear(input_size, 32)\n",
    "        self.relu_activation1 = torch.nn.ReLU()\n",
    "        self.lin2 = torch.nn.Linear(32, 16)\n",
    "        self.relu_activation2 = torch.nn.ReLU()\n",
    "        self.lin3 = torch.nn.Linear(16, 1)\n",
    "        self.sigmoid_activation = torch.nn.Sigmoid()\n",
    "    \n",
    "    def forward(self, x):\n",
    "        x = self.lin1(x)\n",
    "        x = self.relu_activation1(x)\n",
    "        x = self.lin2(x)\n",
    "        x = self.relu_activation2(x)\n",
    "        x = self.lin3(x)\n",
    "        x = self.sigmoid_activation(x)\n",
    "        return x\n",
    "        "
   ]
  },
  {
   "cell_type": "code",
   "execution_count": 18,
   "id": "27ea9f4b-a969-45ae-bf98-391916f3cdd3",
   "metadata": {},
   "outputs": [
    {
     "data": {
      "text/plain": [
       "33"
      ]
     },
     "execution_count": 18,
     "metadata": {},
     "output_type": "execute_result"
    }
   ],
   "source": [
    "input_size = train_dataset[0][0].size\n",
    "input_size"
   ]
  },
  {
   "cell_type": "code",
   "execution_count": 19,
   "id": "d1972bd1-8e45-4111-9afd-c16f1077ee7e",
   "metadata": {},
   "outputs": [
    {
     "name": "stdout",
     "output_type": "stream",
     "text": [
      "SimpleANN(\n",
      "  (lin1): Linear(in_features=33, out_features=32, bias=True)\n",
      "  (relu_activation1): ReLU()\n",
      "  (lin2): Linear(in_features=32, out_features=16, bias=True)\n",
      "  (relu_activation2): ReLU()\n",
      "  (lin3): Linear(in_features=16, out_features=1, bias=True)\n",
      "  (sigmoid_activation): Sigmoid()\n",
      ")\n"
     ]
    }
   ],
   "source": [
    "classifier = SimpleANN(input_size)\n",
    "print(classifier)"
   ]
  },
  {
   "cell_type": "markdown",
   "id": "56df597a-048e-4712-91cb-a6cd6e47bb52",
   "metadata": {},
   "source": [
    "## Train Model\n",
    "- Training Loop Tutorial: https://pytorch.org/tutorials/beginner/introyt/trainingyt.html"
   ]
  },
  {
   "cell_type": "markdown",
   "id": "5240285c-50b8-4620-ae4d-c4f53afd9da6",
   "metadata": {},
   "source": [
    "### Loss Function\n",
    "- Binary Cross Entropy With Logits Loss: https://pytorch.org/docs/stable/generated/torch.nn.BCEWithLogitsLoss.html"
   ]
  },
  {
   "cell_type": "code",
   "execution_count": 20,
   "id": "880a27ee-9bf5-4f83-a22b-ced6727ffb79",
   "metadata": {},
   "outputs": [],
   "source": [
    "loss_fn = torch.nn.BCELoss()"
   ]
  },
  {
   "cell_type": "markdown",
   "id": "bb75a92d-2661-4301-9213-a5228d83a7f9",
   "metadata": {},
   "source": [
    "### Optimizer\n",
    "- Stochastic Gradient Descent Optimizer: https://pytorch.org/docs/stable/generated/torch.optim.SGD.html"
   ]
  },
  {
   "cell_type": "code",
   "execution_count": 21,
   "id": "f074529b-a1ce-4d12-9591-cd9ded6f0473",
   "metadata": {},
   "outputs": [],
   "source": [
    "optimizer = torch.optim.Adam(classifier.parameters(), lr=0.001)"
   ]
  },
  {
   "cell_type": "markdown",
   "id": "7e5e5e5a-ca0f-4465-83e6-164af4732882",
   "metadata": {},
   "source": [
    "### Get Model Accruacy Function"
   ]
  },
  {
   "cell_type": "code",
   "execution_count": 34,
   "id": "f8ca1309-dd39-4beb-a3e2-413fab4c88d1",
   "metadata": {},
   "outputs": [],
   "source": [
    "def get_model_accuracy(model, dataloader):\n",
    "    model.eval()\n",
    "\n",
    "    correct_predictions = 0\n",
    "    total_predictions = 0\n",
    "    all_labels = []\n",
    "    all_preds = []\n",
    "\n",
    "    with torch.no_grad():\n",
    "        for inputs, labels in dataloader:\n",
    "            outputs = model(inputs)\n",
    "            predicted_classes = (outputs >= 0.5).float()\n",
    "\n",
    "            all_labels.extend(labels.tolist())\n",
    "\n",
    "            labels = labels.unsqueeze(1)\n",
    "\n",
    "            correct_predictions += (predicted_classes == labels).sum().item()\n",
    "\n",
    "            total_predictions += labels.size(0)\n",
    "            \n",
    "            \n",
    "            all_preds.extend(predicted_classes.squeeze(1).tolist())\n",
    "\n",
    "    accuracy = correct_predictions / total_predictions\n",
    "    return accuracy, all_labels, all_preds"
   ]
  },
  {
   "cell_type": "markdown",
   "id": "69e8e6d0-91e1-403e-a34d-2b60dbcc5370",
   "metadata": {},
   "source": [
    "### Training Loop"
   ]
  },
  {
   "cell_type": "code",
   "execution_count": 23,
   "id": "80255f32-c63a-4e8b-9000-25c3610b31cb",
   "metadata": {
    "tags": []
   },
   "outputs": [
    {
     "name": "stdout",
     "output_type": "stream",
     "text": [
      "Batch: 9121, Loss: 0.3273830711841583746\r"
     ]
    }
   ],
   "source": [
    "NUM_EPOCHS = 1\n",
    "loss_over_time = []\n",
    "eval_accuracy_over_time = []\n",
    "eval_frequency = 100\n",
    "\n",
    "for epoch_number in range(NUM_EPOCHS):\n",
    "    last_loss = 0.\n",
    "    \n",
    "    for batch_index, batch in enumerate(train_dataloader):\n",
    "        optimizer.zero_grad()\n",
    "\n",
    "        inputs, labels = batch\n",
    "        model_predictions = classifier(inputs)\n",
    "        loss = loss_fn(model_predictions, labels.unsqueeze(1))\n",
    "        loss_over_time.append(loss.item())\n",
    "        loss.backward()\n",
    "        optimizer.step()\n",
    "        \n",
    "        if batch_index % eval_frequency == 0:\n",
    "            eval_accuracy_over_time.append(get_model_accuracy(classifier, val_dataloader))\n",
    "            classifier.train()\n",
    "        \n",
    "        \n",
    "        print(f\"Batch: {batch_index}, Loss: {loss}\", end='\\r')"
   ]
  },
  {
   "cell_type": "code",
   "execution_count": 24,
   "id": "8b5e0338-099e-418a-9e2c-8ae0252ab6a9",
   "metadata": {},
   "outputs": [
    {
     "data": {
      "image/png": "[encoded data removed]",
      "text/plain": [
       "<Figure size 640x480 with 1 Axes>"
      ]
     },
     "metadata": {},
     "output_type": "display_data"
    }
   ],
   "source": [
    "plt.plot(loss_over_time)\n",
    "plt.show()"
   ]
  },
  {
   "cell_type": "code",
   "execution_count": 25,
   "id": "55d66382-d97a-437b-9246-d9132e61b4c6",
   "metadata": {},
   "outputs": [
    {
     "data": {
      "image/png": "[encoded data removed]",
      "text/plain": [
       "<Figure size 640x480 with 1 Axes>"
      ]
     },
     "metadata": {},
     "output_type": "display_data"
    }
   ],
   "source": [
    "plt.plot(eval_accuracy_over_time)\n",
    "plt.show()"
   ]
  },
  {
   "cell_type": "markdown",
   "id": "423f0734-214a-4451-b8af-a2ef6b71c4b5",
   "metadata": {},
   "source": [
    "## Test Model\n",
    "- Method of determining accuracy in BC Problem: https://discuss.pytorch.org/t/calculate-accuracy-in-binary-classification/91758"
   ]
  },
  {
   "cell_type": "code",
   "execution_count": 35,
   "id": "05ea2b36-527d-4f58-9d7d-febbc2f8c1d1",
   "metadata": {},
   "outputs": [],
   "source": [
    "accuracy, labels, preds = get_model_accuracy(classifier, test_dataloader)"
   ]
  },
  {
   "cell_type": "code",
   "execution_count": 41,
   "id": "60c0ed43-d66a-4428-8c6e-849a9f1ebed2",
   "metadata": {},
   "outputs": [
    {
     "name": "stdout",
     "output_type": "stream",
     "text": [
      "0.9496402877697842\n"
     ]
    }
   ],
   "source": [
    "print(accuracy)"
   ]
  },
  {
   "cell_type": "markdown",
   "id": "2e3d1c7b-c8a3-4fc7-b1da-d43eadbbc36a",
   "metadata": {},
   "source": [
    "### Make Confusion Matrix\n"
   ]
  },
  {
   "cell_type": "code",
   "execution_count": 44,
   "id": "82390557-23b3-473f-a694-43c27b969bc1",
   "metadata": {},
   "outputs": [
    {
     "data": {
      "image/png": "[encoded data removed]",
      "text/plain": [
       "<Figure size 800x600 with 2 Axes>"
      ]
     },
     "metadata": {},
     "output_type": "display_data"
    }
   ],
   "source": [
    "cm = confusion_matrix(labels, preds)\n",
    "cm_normalized = cm.astype('float') / cm.sum(axis=1)[:, np.newaxis]\n",
    "\n",
    "plt.figure(figsize=(8, 6))\n",
    "sns.heatmap(cm_normalized, annot=True, cmap='Blues', xticklabels=[0, 1], yticklabels=[0, 1])\n",
    "plt.ylabel('Actual')\n",
    "plt.xlabel('Predicted')\n",
    "plt.title('Confusion Matrix')\n",
    "plt.show()"
   ]
  },
  {
   "cell_type": "code",
   "execution_count": null,
   "id": "93cb5112-a435-4126-99a2-62b15febc9b0",
   "metadata": {},
   "outputs": [],
   "source": []
  }
 ],
 "metadata": {
  "kernelspec": {
   "display_name": "HacklahomaPresFall2023",
   "language": "python",
   "name": "hacklahomapresfall2023"
  },
  "language_info": {
   "codemirror_mode": {
    "name": "ipython",
    "version": 3
   },
   "file_extension": ".py",
   "mimetype": "text/x-python",
   "name": "python",
   "nbconvert_exporter": "python",
   "pygments_lexer": "ipython3",
   "version": "3.11.5"
  }
 },
 "nbformat": 4,
 "nbformat_minor": 5
}
