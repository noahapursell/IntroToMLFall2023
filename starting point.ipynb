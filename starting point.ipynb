{
 "cells": [
  {
   "cell_type": "markdown",
   "id": "1d0e1c28-7c7d-4893-9372-be3cbdba26bb",
   "metadata": {},
   "source": [
    "## Configs"
   ]
  },
  {
   "cell_type": "code",
   "execution_count": 1,
   "id": "cbd810f4-2848-4b45-ab58-b3c2e1624f21",
   "metadata": {},
   "outputs": [],
   "source": [
    "DATA_PATH = \"data/credit_card_data.csv\""
   ]
  },
  {
   "cell_type": "markdown",
   "id": "cf337542-3abd-47c7-bbc0-bcda4b2c90f9",
   "metadata": {},
   "source": [
    "## Imports"
   ]
  },
  {
   "cell_type": "code",
   "execution_count": 40,
   "id": "6476b463-d4a1-4b59-84f2-6f9209ca52e7",
   "metadata": {},
   "outputs": [],
   "source": [
    "import pandas as pd\n",
    "import matplotlib.pyplot as plt\n",
    "import torch\n",
    "from torch.utils.data import Dataset\n",
    "from torch.utils.data import DataLoader\n",
    "from sklearn.model_selection import train_test_split\n",
    "import numpy as np\n",
    "from sklearn.metrics import confusion_matrix\n",
    "import seaborn as sns\n"
   ]
  },
  {
   "cell_type": "markdown",
   "id": "899aef49-e028-4105-b9bc-6a2fde985c1f",
   "metadata": {},
   "source": [
    "## Data Loading + Cleaning"
   ]
  },
  {
   "cell_type": "code",
   "execution_count": 3,
   "id": "269996ae-a340-454e-8cb4-35ea3014775e",
   "metadata": {
    "tags": []
   },
   "outputs": [
    {
     "name": "stdout",
     "output_type": "stream",
     "text": [
      "568630\n"
     ]
    },
    {
     "data": {
      "text/html": [
       "<div>\n",
       "<style scoped>\n",
       "    .dataframe tbody tr th:only-of-type {\n",
       "        vertical-align: middle;\n",
       "    }\n",
       "\n",
       "    .dataframe tbody tr th {\n",
       "        vertical-align: top;\n",
       "    }\n",
       "\n",
       "    .dataframe thead th {\n",
       "        text-align: right;\n",
       "    }\n",
       "</style>\n",
       "<table border=\"1\" class=\"dataframe\">\n",
       "  <thead>\n",
       "    <tr style=\"text-align: right;\">\n",
       "      <th></th>\n",
       "      <th>V1</th>\n",
       "      <th>V2</th>\n",
       "      <th>V3</th>\n",
       "      <th>V4</th>\n",
       "      <th>V5</th>\n",
       "      <th>V6</th>\n",
       "      <th>V7</th>\n",
       "      <th>V8</th>\n",
       "      <th>V9</th>\n",
       "      <th>V10</th>\n",
       "      <th>...</th>\n",
       "      <th>V22</th>\n",
       "      <th>V23</th>\n",
       "      <th>V24</th>\n",
       "      <th>V25</th>\n",
       "      <th>V26</th>\n",
       "      <th>V27</th>\n",
       "      <th>V28</th>\n",
       "      <th>Amount</th>\n",
       "      <th>Class</th>\n",
       "      <th>V29</th>\n",
       "    </tr>\n",
       "    <tr>\n",
       "      <th>id</th>\n",
       "      <th></th>\n",
       "      <th></th>\n",
       "      <th></th>\n",
       "      <th></th>\n",
       "      <th></th>\n",
       "      <th></th>\n",
       "      <th></th>\n",
       "      <th></th>\n",
       "      <th></th>\n",
       "      <th></th>\n",
       "      <th></th>\n",
       "      <th></th>\n",
       "      <th></th>\n",
       "      <th></th>\n",
       "      <th></th>\n",
       "      <th></th>\n",
       "      <th></th>\n",
       "      <th></th>\n",
       "      <th></th>\n",
       "      <th></th>\n",
       "      <th></th>\n",
       "    </tr>\n",
       "  </thead>\n",
       "  <tbody>\n",
       "    <tr>\n",
       "      <th>0</th>\n",
       "      <td>-0.260648</td>\n",
       "      <td>-0.469648</td>\n",
       "      <td>31.122978</td>\n",
       "      <td>-0.083724</td>\n",
       "      <td>0.129681</td>\n",
       "      <td>0.732898</td>\n",
       "      <td>0.519014</td>\n",
       "      <td>-0.130006</td>\n",
       "      <td>0.727159</td>\n",
       "      <td>0.637735</td>\n",
       "      <td>...</td>\n",
       "      <td>0.217606</td>\n",
       "      <td>-0.134794</td>\n",
       "      <td>0.165959</td>\n",
       "      <td>0.126280</td>\n",
       "      <td>-0.434824</td>\n",
       "      <td>-0.081230</td>\n",
       "      <td>-0.151045</td>\n",
       "      <td>17982.10</td>\n",
       "      <td>0.0</td>\n",
       "      <td>C</td>\n",
       "    </tr>\n",
       "    <tr>\n",
       "      <th>1</th>\n",
       "      <td>0.985100</td>\n",
       "      <td>-0.356045</td>\n",
       "      <td>3.600400</td>\n",
       "      <td>-0.429654</td>\n",
       "      <td>0.277140</td>\n",
       "      <td>0.428605</td>\n",
       "      <td>0.406466</td>\n",
       "      <td>-0.133118</td>\n",
       "      <td>0.347452</td>\n",
       "      <td>0.529808</td>\n",
       "      <td>...</td>\n",
       "      <td>-0.605761</td>\n",
       "      <td>0.079469</td>\n",
       "      <td>-0.577395</td>\n",
       "      <td>0.190090</td>\n",
       "      <td>0.296503</td>\n",
       "      <td>-0.248052</td>\n",
       "      <td>-0.064512</td>\n",
       "      <td>6531.37</td>\n",
       "      <td>0.0</td>\n",
       "      <td>C</td>\n",
       "    </tr>\n",
       "    <tr>\n",
       "      <th>2</th>\n",
       "      <td>-0.260272</td>\n",
       "      <td>-0.949385</td>\n",
       "      <td>20.221236</td>\n",
       "      <td>-0.457986</td>\n",
       "      <td>0.074062</td>\n",
       "      <td>1.419481</td>\n",
       "      <td>0.743511</td>\n",
       "      <td>-0.095576</td>\n",
       "      <td>-0.261297</td>\n",
       "      <td>0.690708</td>\n",
       "      <td>...</td>\n",
       "      <td>0.702906</td>\n",
       "      <td>0.945045</td>\n",
       "      <td>-1.154666</td>\n",
       "      <td>-0.605564</td>\n",
       "      <td>-0.312895</td>\n",
       "      <td>-0.300258</td>\n",
       "      <td>-0.244718</td>\n",
       "      <td>2513.54</td>\n",
       "      <td>0.0</td>\n",
       "      <td>A</td>\n",
       "    </tr>\n",
       "    <tr>\n",
       "      <th>3</th>\n",
       "      <td>-0.152152</td>\n",
       "      <td>-0.508959</td>\n",
       "      <td>20.481129</td>\n",
       "      <td>-1.090178</td>\n",
       "      <td>0.249486</td>\n",
       "      <td>1.143312</td>\n",
       "      <td>0.518269</td>\n",
       "      <td>-0.065130</td>\n",
       "      <td>-0.205698</td>\n",
       "      <td>0.575231</td>\n",
       "      <td>...</td>\n",
       "      <td>-0.038212</td>\n",
       "      <td>-0.214048</td>\n",
       "      <td>-1.893131</td>\n",
       "      <td>1.003963</td>\n",
       "      <td>-0.515950</td>\n",
       "      <td>-0.165316</td>\n",
       "      <td>0.048424</td>\n",
       "      <td>5384.44</td>\n",
       "      <td>0.0</td>\n",
       "      <td>C</td>\n",
       "    </tr>\n",
       "    <tr>\n",
       "      <th>4</th>\n",
       "      <td>-0.206820</td>\n",
       "      <td>-0.165280</td>\n",
       "      <td>17.360148</td>\n",
       "      <td>-0.448293</td>\n",
       "      <td>0.106125</td>\n",
       "      <td>0.530549</td>\n",
       "      <td>0.658849</td>\n",
       "      <td>-0.212660</td>\n",
       "      <td>1.049921</td>\n",
       "      <td>0.968046</td>\n",
       "      <td>...</td>\n",
       "      <td>0.729727</td>\n",
       "      <td>-0.161666</td>\n",
       "      <td>0.312561</td>\n",
       "      <td>-0.414116</td>\n",
       "      <td>1.071126</td>\n",
       "      <td>0.023712</td>\n",
       "      <td>0.419117</td>\n",
       "      <td>14278.97</td>\n",
       "      <td>0.0</td>\n",
       "      <td>D</td>\n",
       "    </tr>\n",
       "  </tbody>\n",
       "</table>\n",
       "<p>5 rows × 31 columns</p>\n",
       "</div>"
      ],
      "text/plain": [
       "          V1        V2         V3        V4        V5        V6        V7  \\\n",
       "id                                                                          \n",
       "0  -0.260648 -0.469648  31.122978 -0.083724  0.129681  0.732898  0.519014   \n",
       "1   0.985100 -0.356045   3.600400 -0.429654  0.277140  0.428605  0.406466   \n",
       "2  -0.260272 -0.949385  20.221236 -0.457986  0.074062  1.419481  0.743511   \n",
       "3  -0.152152 -0.508959  20.481129 -1.090178  0.249486  1.143312  0.518269   \n",
       "4  -0.206820 -0.165280  17.360148 -0.448293  0.106125  0.530549  0.658849   \n",
       "\n",
       "          V8        V9       V10  ...       V22       V23       V24       V25  \\\n",
       "id                                ...                                           \n",
       "0  -0.130006  0.727159  0.637735  ...  0.217606 -0.134794  0.165959  0.126280   \n",
       "1  -0.133118  0.347452  0.529808  ... -0.605761  0.079469 -0.577395  0.190090   \n",
       "2  -0.095576 -0.261297  0.690708  ...  0.702906  0.945045 -1.154666 -0.605564   \n",
       "3  -0.065130 -0.205698  0.575231  ... -0.038212 -0.214048 -1.893131  1.003963   \n",
       "4  -0.212660  1.049921  0.968046  ...  0.729727 -0.161666  0.312561 -0.414116   \n",
       "\n",
       "         V26       V27       V28    Amount  Class  V29  \n",
       "id                                                      \n",
       "0  -0.434824 -0.081230 -0.151045  17982.10    0.0    C  \n",
       "1   0.296503 -0.248052 -0.064512   6531.37    0.0    C  \n",
       "2  -0.312895 -0.300258 -0.244718   2513.54    0.0    A  \n",
       "3  -0.515950 -0.165316  0.048424   5384.44    0.0    C  \n",
       "4   1.071126  0.023712  0.419117  14278.97    0.0    D  \n",
       "\n",
       "[5 rows x 31 columns]"
      ]
     },
     "execution_count": 3,
     "metadata": {},
     "output_type": "execute_result"
    }
   ],
   "source": [
    "# Load in data, display first rows"
   ]
  },
  {
   "cell_type": "markdown",
   "id": "93da7c37-8444-496b-ba92-d1a187736d73",
   "metadata": {},
   "source": [
    "### Remove NAN Values"
   ]
  },
  {
   "cell_type": "code",
   "execution_count": 1,
   "id": "2a2dc193-e7b1-4b86-9373-1c317ad3d373",
   "metadata": {
    "tags": []
   },
   "outputs": [],
   "source": [
    "# Remove NAs (df.dropna())"
   ]
  },
  {
   "cell_type": "markdown",
   "id": "fa92ae21-0ba4-4e51-b9ec-a4be03d94ed3",
   "metadata": {},
   "source": [
    "### Qualitative --> Quantitative"
   ]
  },
  {
   "cell_type": "code",
   "execution_count": 2,
   "id": "1e315174-5f5e-4a54-8931-54cce0c28b12",
   "metadata": {
    "tags": []
   },
   "outputs": [],
   "source": [
    "# pd.get_dummies(df)"
   ]
  },
  {
   "cell_type": "markdown",
   "id": "0cfbe7fe-efb1-478c-969b-8c0dc324f99e",
   "metadata": {},
   "source": [
    "### Scaling Values"
   ]
  },
  {
   "cell_type": "code",
   "execution_count": 4,
   "id": "85990b42-d814-4bd6-8cee-bd86473b9200",
   "metadata": {
    "tags": []
   },
   "outputs": [],
   "source": [
    "# Analyze Column Means"
   ]
  },
  {
   "cell_type": "code",
   "execution_count": 5,
   "id": "7b5f2977-7844-494f-a1a4-a8c843b2f8db",
   "metadata": {
    "tags": []
   },
   "outputs": [],
   "source": [
    "# Analyze Column standard deviations"
   ]
  },
  {
   "cell_type": "code",
   "execution_count": 6,
   "id": "6c224d0a-9cf7-4701-8d75-7fff17d09bc7",
   "metadata": {},
   "outputs": [],
   "source": [
    "# Scale specified columns using z-score normalization"
   ]
  },
  {
   "cell_type": "code",
   "execution_count": 7,
   "id": "4f94d82d-936e-4750-81a9-cff5ba897e1a",
   "metadata": {
    "tags": []
   },
   "outputs": [],
   "source": [
    "# Check new means"
   ]
  },
  {
   "cell_type": "code",
   "execution_count": 8,
   "id": "8db5b281-a20d-4733-811e-42753c8094d8",
   "metadata": {
    "tags": []
   },
   "outputs": [],
   "source": [
    "# Check new stdv"
   ]
  },
  {
   "cell_type": "markdown",
   "id": "045c4da9-d5a6-4ace-b948-c5820d8d1b8e",
   "metadata": {},
   "source": [
    "### Class Balancing"
   ]
  },
  {
   "cell_type": "code",
   "execution_count": 9,
   "id": "ede9183e-bcfa-4276-b8b4-9350358aab60",
   "metadata": {},
   "outputs": [],
   "source": [
    "# Check class balance (pd.value_counts())"
   ]
  },
  {
   "cell_type": "markdown",
   "id": "77836de8-1ec5-4172-aac1-c90658e6f4ba",
   "metadata": {},
   "source": [
    "## Dataset + Dataloader\n",
    "https://pytorch.org/tutorials/beginner/basics/data_tutorial.html"
   ]
  },
  {
   "cell_type": "markdown",
   "id": "5afbc549-4ae2-4d4f-8eed-7eeb536c6ec1",
   "metadata": {},
   "source": [
    "### PyTorch Dataset"
   ]
  },
  {
   "cell_type": "code",
   "execution_count": 10,
   "id": "e190c4c0-4b8e-4959-a236-14a8b3c47958",
   "metadata": {},
   "outputs": [],
   "source": [
    "# Define Dataset class - ensure you have init, len, getitem"
   ]
  },
  {
   "cell_type": "markdown",
   "id": "7b955a70-09e0-44c1-a2b1-21615d846158",
   "metadata": {},
   "source": [
    "### Make Train, Validation, Test, Datasets\n",
    "https://scikit-learn.org/stable/modules/generated/sklearn.model_selection.train_test_split.html"
   ]
  },
  {
   "cell_type": "code",
   "execution_count": 11,
   "id": "8bf624ad-91a1-4028-80ff-3207beb5e49a",
   "metadata": {},
   "outputs": [],
   "source": [
    "# Split data into train, validation, test"
   ]
  },
  {
   "cell_type": "code",
   "execution_count": 12,
   "id": "f234249a-cc76-4188-81ec-17978c4eeef0",
   "metadata": {},
   "outputs": [],
   "source": [
    "# Check data sizes"
   ]
  },
  {
   "cell_type": "code",
   "execution_count": 13,
   "id": "e58efc04-ef4a-46a5-9dc6-80f8b49fd269",
   "metadata": {},
   "outputs": [],
   "source": [
    "# Create Datasets for each split"
   ]
  },
  {
   "cell_type": "markdown",
   "id": "f79fd4d0-010c-46a7-afe9-f96ad0239671",
   "metadata": {},
   "source": [
    "### Pytorch DataLoader"
   ]
  },
  {
   "cell_type": "code",
   "execution_count": 14,
   "id": "9cd86f8f-8488-4dd7-9f89-d5467e19a289",
   "metadata": {},
   "outputs": [],
   "source": [
    "# Create pytorch dataloaders for each dataset"
   ]
  },
  {
   "cell_type": "markdown",
   "id": "a287dbd1-ea33-412e-bedd-e8fe8709a2f4",
   "metadata": {},
   "source": [
    "## Define Model\n",
    "- Simple Network Definition: https://pytorch.org/tutorials/beginner/blitz/neural_networks_tutorial.html\n",
    "- Linear Layer: https://pytorch.org/docs/stable/generated/torch.nn.Linear.html\n",
    "- ReLU Activation Function: https://pytorch.org/docs/stable/generated/torch.nn.ReLU.html\n",
    "- Sigmoid Activation Function: https://pytorch.org/docs/stable/generated/torch.nn.Sigmoid.html"
   ]
  },
  {
   "cell_type": "code",
   "execution_count": 15,
   "id": "6eb659c8-8e6a-4685-8b46-2be974a6de52",
   "metadata": {},
   "outputs": [],
   "source": [
    "# Define model architecture - ensure init, forward"
   ]
  },
  {
   "cell_type": "code",
   "execution_count": 16,
   "id": "b186c71c-c2f1-4955-bfdd-903c7184962f",
   "metadata": {},
   "outputs": [],
   "source": [
    "# Check dataset input size"
   ]
  },
  {
   "cell_type": "code",
   "execution_count": 17,
   "id": "2b869345-734f-456d-9b88-4a865a61b6b5",
   "metadata": {},
   "outputs": [],
   "source": [
    "# Create classifier"
   ]
  },
  {
   "cell_type": "markdown",
   "id": "2c1a6528-4fd1-4731-bcbc-90d16715d1ad",
   "metadata": {},
   "source": [
    "## Train Model\n",
    "- Training Loop Tutorial: https://pytorch.org/tutorials/beginner/introyt/trainingyt.html"
   ]
  },
  {
   "cell_type": "markdown",
   "id": "ad939e09-f31b-4fd3-b2db-f7127e87f02f",
   "metadata": {},
   "source": [
    "### Loss Function\n",
    "- Binary Cross Entropy With Logits Loss: https://pytorch.org/docs/stable/generated/torch.nn.BCEWithLogitsLoss.html"
   ]
  },
  {
   "cell_type": "code",
   "execution_count": 19,
   "id": "1284c32a-7efc-4082-bb65-d2efacbd509e",
   "metadata": {},
   "outputs": [],
   "source": [
    "# Define Loss Loss Function"
   ]
  },
  {
   "cell_type": "markdown",
   "id": "1be35345-7bd2-4827-9b16-1e81547aa69f",
   "metadata": {},
   "source": [
    "### Optimizer\n",
    "- Stochastic Gradient Descent Optimizer: https://pytorch.org/docs/stable/generated/torch.optim.SGD.html"
   ]
  },
  {
   "cell_type": "code",
   "execution_count": 21,
   "id": "b977a2a6-546e-40a6-bdc9-c1e59cad9a3a",
   "metadata": {},
   "outputs": [],
   "source": [
    "# Define opotimizer"
   ]
  },
  {
   "cell_type": "markdown",
   "id": "efaf6cfe-363e-4912-8227-80144295279e",
   "metadata": {},
   "source": [
    "### Get Model Accruacy Function"
   ]
  },
  {
   "cell_type": "code",
   "execution_count": 22,
   "id": "6ffe4b32-048b-43dc-953b-97981f2249c8",
   "metadata": {},
   "outputs": [],
   "source": [
    "# Define get_model_accuracy"
   ]
  },
  {
   "cell_type": "markdown",
   "id": "c5c82586-165f-4b44-b442-b4c2fe1489db",
   "metadata": {},
   "source": [
    "### Training Loop"
   ]
  },
  {
   "cell_type": "code",
   "execution_count": 24,
   "id": "5ffe2562-0d67-47c3-abfc-a1500786b3e3",
   "metadata": {
    "tags": []
   },
   "outputs": [],
   "source": [
    "# Create & run training Loop"
   ]
  },
  {
   "cell_type": "code",
   "execution_count": 25,
   "id": "d9f6775c-d10d-49ea-b30e-9c9228c357be",
   "metadata": {},
   "outputs": [],
   "source": [
    "# Plot loss over time"
   ]
  },
  {
   "cell_type": "code",
   "execution_count": 26,
   "id": "505d9769-11a5-48fe-8c82-99b26ea26c88",
   "metadata": {},
   "outputs": [],
   "source": [
    "# Plot validation accuracy over time"
   ]
  },
  {
   "cell_type": "markdown",
   "id": "5bd2e5f2-44fa-429f-8ca4-f900c2142af6",
   "metadata": {},
   "source": [
    "## Test Model\n",
    "- Method of determining accuracy in BC Problem: https://discuss.pytorch.org/t/calculate-accuracy-in-binary-classification/91758"
   ]
  },
  {
   "cell_type": "code",
   "execution_count": 35,
   "id": "7e1eb1b9-318b-4df4-9c19-879c54eb20ce",
   "metadata": {},
   "outputs": [],
   "source": [
    "accuracy, labels, preds = get_model_accuracy(classifier, test_dataloader)"
   ]
  },
  {
   "cell_type": "code",
   "execution_count": 41,
   "id": "7ed24e33-cb0e-4ce8-96af-7fc1acb55963",
   "metadata": {},
   "outputs": [
    {
     "name": "stdout",
     "output_type": "stream",
     "text": [
      "0.9496402877697842\n"
     ]
    }
   ],
   "source": [
    "print(accuracy)"
   ]
  },
  {
   "cell_type": "markdown",
   "id": "05bcda7c-8074-4de0-9404-9f695c680d63",
   "metadata": {},
   "source": [
    "### Make Confusion Matrix\n"
   ]
  },
  {
   "cell_type": "code",
   "execution_count": 27,
   "id": "8349eadf-f731-416f-a1bf-de01623a3b64",
   "metadata": {},
   "outputs": [
    {
     "ename": "NameError",
     "evalue": "name 'confusion_matrix' is not defined",
     "output_type": "error",
     "traceback": [
      "\u001b[1;31m---------------------------------------------------------------------------\u001b[0m",
      "\u001b[1;31mNameError\u001b[0m                                 Traceback (most recent call last)",
      "Cell \u001b[1;32mIn[27], line 1\u001b[0m\n\u001b[1;32m----> 1\u001b[0m cm \u001b[38;5;241m=\u001b[39m confusion_matrix(labels, preds)\n\u001b[0;32m      2\u001b[0m cm_normalized \u001b[38;5;241m=\u001b[39m cm\u001b[38;5;241m.\u001b[39mastype(\u001b[38;5;124m'\u001b[39m\u001b[38;5;124mfloat\u001b[39m\u001b[38;5;124m'\u001b[39m) \u001b[38;5;241m/\u001b[39m cm\u001b[38;5;241m.\u001b[39msum(axis\u001b[38;5;241m=\u001b[39m\u001b[38;5;241m1\u001b[39m)[:, np\u001b[38;5;241m.\u001b[39mnewaxis]\n\u001b[0;32m      4\u001b[0m plt\u001b[38;5;241m.\u001b[39mfigure(figsize\u001b[38;5;241m=\u001b[39m(\u001b[38;5;241m8\u001b[39m, \u001b[38;5;241m6\u001b[39m))\n",
      "\u001b[1;31mNameError\u001b[0m: name 'confusion_matrix' is not defined"
     ]
    }
   ],
   "source": [
    "cm = confusion_matrix(labels, preds)\n",
    "cm_normalized = cm.astype('float') / cm.sum(axis=1)[:, np.newaxis]\n",
    "\n",
    "plt.figure(figsize=(8, 6))\n",
    "sns.heatmap(cm_normalized, annot=True, cmap='Blues', xticklabels=[0, 1], yticklabels=[0, 1])\n",
    "plt.ylabel('Actual')\n",
    "plt.xlabel('Predicted')\n",
    "plt.title('Confusion Matrix')\n",
    "plt.show()"
   ]
  },
  {
   "cell_type": "code",
   "execution_count": null,
   "id": "5c8d7431-dab6-4691-9866-2d76680b07b9",
   "metadata": {},
   "outputs": [],
   "source": []
  },
  {
   "cell_type": "code",
   "execution_count": null,
   "id": "39034f6e-1a65-41b3-860b-d0d1eb2a660a",
   "metadata": {},
   "outputs": [],
   "source": []
  },
  {
   "cell_type": "code",
   "execution_count": null,
   "id": "1a72e1a6-c07a-42d6-ae91-0f08a7d011d6",
   "metadata": {},
   "outputs": [],
   "source": []
  }
 ],
 "metadata": {
  "kernelspec": {
   "display_name": "HacklahomaPresFall2023",
   "language": "python",
   "name": "hacklahomapresfall2023"
  },
  "language_info": {
   "codemirror_mode": {
    "name": "ipython",
    "version": 3
   },
   "file_extension": ".py",
   "mimetype": "text/x-python",
   "name": "python",
   "nbconvert_exporter": "python",
   "pygments_lexer": "ipython3",
   "version": "3.11.5"
  }
 },
 "nbformat": 4,
 "nbformat_minor": 5
}
